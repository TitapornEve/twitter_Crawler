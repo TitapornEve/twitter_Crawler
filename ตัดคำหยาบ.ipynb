{
  "nbformat": 4,
  "nbformat_minor": 0,
  "metadata": {
    "colab": {
      "name": "ตัดคำหยาบ.ipynb",
      "provenance": [],
      "collapsed_sections": [],
      "authorship_tag": "ABX9TyOVdNTR3gljMy4UXUffjVyx",
      "include_colab_link": true
    },
    "kernelspec": {
      "name": "python3",
      "display_name": "Python 3"
    }
  },
  "cells": [
    {
      "cell_type": "markdown",
      "metadata": {
        "id": "view-in-github",
        "colab_type": "text"
      },
      "source": [
        "<a href=\"https://colab.research.google.com/github/TitapornEve/twitter_Crawler/blob/main/%E0%B8%95%E0%B8%B1%E0%B8%94%E0%B8%84%E0%B8%B3%E0%B8%AB%E0%B8%A2%E0%B8%B2%E0%B8%9A.ipynb\" target=\"_parent\"><img src=\"https://colab.research.google.com/assets/colab-badge.svg\" alt=\"Open In Colab\"/></a>"
      ]
    },
    {
      "cell_type": "code",
      "metadata": {
        "colab": {
          "base_uri": "https://localhost:8080/"
        },
        "id": "MRT4AiNTPe3R",
        "outputId": "202d7348-5552-47dd-e807-a6fbf1815820"
      },
      "source": [
        "!pip install pythainlp\r\n",
        "!pip install emoji"
      ],
      "execution_count": 1,
      "outputs": [
        {
          "output_type": "stream",
          "text": [
            "Collecting pythainlp\n",
            "\u001b[?25l  Downloading https://files.pythonhosted.org/packages/c1/09/1215cb6f6ef0cfc9dbb427a961fda8a47c111955f782f659ca2d38c79adc/pythainlp-2.2.6-py3-none-any.whl (10.6MB)\n",
            "\u001b[K     |████████████████████████████████| 10.6MB 4.4MB/s \n",
            "\u001b[?25hRequirement already satisfied: requests>=2.22.0 in /usr/local/lib/python3.6/dist-packages (from pythainlp) (2.23.0)\n",
            "Collecting python-crfsuite>=0.9.6\n",
            "\u001b[?25l  Downloading https://files.pythonhosted.org/packages/95/99/869dde6dbf3e0d07a013c8eebfb0a3d30776334e0097f8432b631a9a3a19/python_crfsuite-0.9.7-cp36-cp36m-manylinux1_x86_64.whl (743kB)\n",
            "\u001b[K     |████████████████████████████████| 747kB 22.6MB/s \n",
            "\u001b[?25hCollecting tinydb>=3.0\n",
            "  Downloading https://files.pythonhosted.org/packages/af/cd/1ce3d93818cdeda0446b8033d21e5f32daeb3a866bbafd878a9a62058a9c/tinydb-4.4.0-py3-none-any.whl\n",
            "Requirement already satisfied: urllib3!=1.25.0,!=1.25.1,<1.26,>=1.21.1 in /usr/local/lib/python3.6/dist-packages (from requests>=2.22.0->pythainlp) (1.24.3)\n",
            "Requirement already satisfied: idna<3,>=2.5 in /usr/local/lib/python3.6/dist-packages (from requests>=2.22.0->pythainlp) (2.10)\n",
            "Requirement already satisfied: chardet<4,>=3.0.2 in /usr/local/lib/python3.6/dist-packages (from requests>=2.22.0->pythainlp) (3.0.4)\n",
            "Requirement already satisfied: certifi>=2017.4.17 in /usr/local/lib/python3.6/dist-packages (from requests>=2.22.0->pythainlp) (2020.12.5)\n",
            "Installing collected packages: python-crfsuite, tinydb, pythainlp\n",
            "Successfully installed pythainlp-2.2.6 python-crfsuite-0.9.7 tinydb-4.4.0\n",
            "Collecting emoji\n",
            "\u001b[?25l  Downloading https://files.pythonhosted.org/packages/24/fa/b3368f41b95a286f8d300e323449ab4e86b85334c2e0b477e94422b8ed0f/emoji-1.2.0-py3-none-any.whl (131kB)\n",
            "\u001b[K     |████████████████████████████████| 133kB 5.5MB/s \n",
            "\u001b[?25hInstalling collected packages: emoji\n",
            "Successfully installed emoji-1.2.0\n"
          ],
          "name": "stdout"
        }
      ]
    },
    {
      "cell_type": "code",
      "metadata": {
        "id": "EXSfZXKUPhIz"
      },
      "source": [
        "from nltk import NaiveBayesClassifier as nbc\r\n",
        "from sklearn.feature_extraction.text import CountVectorizer\r\n",
        "\r\n",
        "from pythainlp.tokenize import word_tokenize\r\n",
        "from pythainlp.corpus import thai_stopwords\r\n",
        "\r\n",
        "import codecs\r\n",
        "\r\n",
        "from itertools import chain\r\n",
        "\r\n",
        "import pandas as pd\r\n",
        "import numpy as np\r\n",
        "\r\n",
        "import emoji\r\n",
        "import re\r\n",
        "\r\n",
        "from wordcloud import WordCloud\r\n",
        "import matplotlib.pyplot as plt "
      ],
      "execution_count": 3,
      "outputs": []
    },
    {
      "cell_type": "code",
      "metadata": {
        "id": "jtP8ABumPmEO"
      },
      "source": [
        "tweet=pd.read_excel(\"twitterCrawler55.xlsx\")\r\n"
      ],
      "execution_count": 11,
      "outputs": []
    },
    {
      "cell_type": "code",
      "metadata": {
        "id": "DQh1rAPcP6k5"
      },
      "source": [
        "tweet.info()"
      ],
      "execution_count": null,
      "outputs": []
    },
    {
      "cell_type": "code",
      "metadata": {
        "id": "MuDsPlbUQUtx"
      },
      "source": [
        "tweet.describe()"
      ],
      "execution_count": null,
      "outputs": []
    },
    {
      "cell_type": "code",
      "metadata": {
        "id": "QPrGmUKEQgNR"
      },
      "source": [
        "tweet.head()"
      ],
      "execution_count": null,
      "outputs": []
    },
    {
      "cell_type": "code",
      "metadata": {
        "id": "SMCW9Zx3QmUI"
      },
      "source": [
        "tweet.drop_duplicates(\"text\")"
      ],
      "execution_count": null,
      "outputs": []
    },
    {
      "cell_type": "code",
      "metadata": {
        "id": "T_islbD2Q2-6"
      },
      "source": [
        "tweet.text"
      ],
      "execution_count": null,
      "outputs": []
    },
    {
      "cell_type": "code",
      "metadata": {
        "id": "aZHeueF_Rnth"
      },
      "source": [
        "with codecs.open('pos.txt', 'r', \"utf-8\") as f:\r\n",
        "    lines = f.readlines()\r\n",
        "listpos=[e.strip() for e in lines]\r\n",
        "del lines\r\n",
        "f.close() # ปิดไฟล์"
      ],
      "execution_count": 17,
      "outputs": []
    },
    {
      "cell_type": "code",
      "metadata": {
        "id": "QMzy46hYSI-x"
      },
      "source": [
        "with codecs.open('neg.txt', 'r', \"utf-8\") as f:\r\n",
        "    lines = f.readlines()\r\n",
        "listneg=[e.strip() for e in lines]\r\n",
        "f.close() # ปิดไฟล์"
      ],
      "execution_count": 19,
      "outputs": []
    },
    {
      "cell_type": "code",
      "metadata": {
        "id": "Pg6lVhppSLYV"
      },
      "source": [
        "pos1=['ไม่หยาบ']*len(listpos)\r\n",
        "neg1=['หยาบ']*len(listneg)\r\n",
        "\r\n",
        "data = list(zip(listpos,pos1)) + list(zip(listneg,neg1))\r\n",
        "\r\n",
        "vocabulary = set(chain(*[word_tokenize(i[0].lower()) for i in data]))\r\n",
        "\r\n",
        "\r\n",
        "feature_set = [({i:(i in word_tokenize(sentence.lower())) for i in vocabulary},tag) for sentence, tag in data]\r\n",
        "\r\n",
        "classifier = nbc.train(feature_set)\r\n",
        "\r\n",
        "#while True:\r\n",
        "for x in tweet.text:\r\n",
        "  test_sentence= x\r\n",
        "  featurized_test_sentence={i:(i in word_tokenize(test_sentence.lower()))for i in vocabulary}\r\n",
        "  print(\"test_sent:\",test_sentence)\r\n",
        "  print(\"ตัดคำ:\",word_tokenize(test_sentence))\r\n",
        "  print(\"tag:\",classifier.classify(featurized_test_sentence))\r\n",
        "  print(\"\\n\")"
      ],
      "execution_count": null,
      "outputs": []
    },
    {
      "cell_type": "code",
      "metadata": {
        "id": "Tp42TE9BS-su"
      },
      "source": [
        ""
      ],
      "execution_count": null,
      "outputs": []
    }
  ]
}